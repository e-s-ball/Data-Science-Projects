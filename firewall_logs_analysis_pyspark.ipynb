{
  "nbformat": 4,
  "nbformat_minor": 0,
  "metadata": {
    "colab": {
      "name": "firewall_logs_analysis_pyspark.ipynb",
      "provenance": [],
      "collapsed_sections": [],
      "toc_visible": true
    },
    "kernelspec": {
      "name": "python3",
      "display_name": "Python 3"
    },
    "language_info": {
      "name": "python"
    }
  },
  "cells": [
    {
      "cell_type": "markdown",
      "metadata": {
        "id": "2YD4BbBwUErn"
      },
      "source": [
        "## 1. Data ETL"
      ]
    },
    {
      "cell_type": "markdown",
      "metadata": {
        "id": "RQvUNOioUP_i"
      },
      "source": [
        "### 1.1 Setup pySpark on Google Colab"
      ]
    },
    {
      "cell_type": "code",
      "metadata": {
        "id": "lCINMkXxbMYx",
        "colab": {
          "base_uri": "https://localhost:8080/",
          "height": 35
        },
        "outputId": "420fdaa8-9fd7-4e93-e4a5-168a950faafb"
      },
      "source": [
        "# Spark needs JVM - download Java\n",
        "!apt-get install openjdk-8-jdk-headless -qq > /dev/null\n",
        "\n",
        "# Install Apache Spark 3.1.2 with Hadoop 3.2\n",
        "!wget -q https://downloads.apache.org/spark/spark-3.1.2/spark-3.1.2-bin-hadoop3.2.tgz\n",
        "!tar xf spark-3.1.2-bin-hadoop3.2.tgz # extract the gzipped tarball\n",
        "\n",
        "# Install findspark - provides findspark.init() to make pyspark importable as a regular library\n",
        "!pip install -q findspark\n",
        "\n",
        "# Set the environment path\n",
        "import os\n",
        "os.environ[\"JAVA_HOME\"] = \"/usr/lib/jvm/java-8-openjdk-amd64\"\n",
        "os.environ[\"SPARK_HOME\"] = \"/content/spark-3.1.2-bin-hadoop3.2\"\n",
        "\n",
        "# Make pyspark importable\n",
        "import findspark \n",
        "findspark.init()\n",
        "findspark.find()  # where is Spark ?"
      ],
      "execution_count": 3,
      "outputs": [
        {
          "output_type": "execute_result",
          "data": {
            "application/vnd.google.colaboratory.intrinsic+json": {
              "type": "string"
            },
            "text/plain": [
              "'/content/spark-3.1.2-bin-hadoop3.2'"
            ]
          },
          "metadata": {
            "tags": []
          },
          "execution_count": 3
        }
      ]
    },
    {
      "cell_type": "markdown",
      "metadata": {
        "id": "tOH_ITyUWQwk"
      },
      "source": [
        "### 1.2 Data Loading\n",
        "Load Data from [UCI Machine Learning repository](https://archive.ics.uci.edu/ml/datasets/Internet+Firewall+Data)"
      ]
    },
    {
      "cell_type": "code",
      "metadata": {
        "colab": {
          "base_uri": "https://localhost:8080/"
        },
        "id": "pjmxEP_aVOgL",
        "outputId": "bb11fa1a-0d8f-4b36-a12b-19e1b7ffeac4"
      },
      "source": [
        "!wget http://archive.ics.uci.edu/ml/machine-learning-databases/00542/log2.csv"
      ],
      "execution_count": 1,
      "outputs": [
        {
          "output_type": "stream",
          "text": [
            "--2021-06-25 03:42:21--  http://archive.ics.uci.edu/ml/machine-learning-databases/00542/log2.csv\n",
            "Resolving archive.ics.uci.edu (archive.ics.uci.edu)... 128.195.10.252\n",
            "Connecting to archive.ics.uci.edu (archive.ics.uci.edu)|128.195.10.252|:80... connected.\n",
            "HTTP request sent, awaiting response... 200 OK\n",
            "Length: 2876998 (2.7M) [application/x-httpd-php]\n",
            "Saving to: ‘log2.csv’\n",
            "\n",
            "log2.csv            100%[===================>]   2.74M  2.58MB/s    in 1.1s    \n",
            "\n",
            "2021-06-25 03:42:22 (2.58 MB/s) - ‘log2.csv’ saved [2876998/2876998]\n",
            "\n",
            "log2.csv  sample_data\n"
          ],
          "name": "stdout"
        }
      ]
    },
    {
      "cell_type": "code",
      "metadata": {
        "colab": {
          "base_uri": "https://localhost:8080/"
        },
        "id": "YoixHNrvWK1h",
        "outputId": "5b9562f9-c82b-41bd-ca36-12de1551300a"
      },
      "source": [
        "data_file = 'log2.csv'\n",
        "\n",
        "!head $data_file"
      ],
      "execution_count": 10,
      "outputs": [
        {
          "output_type": "stream",
          "text": [
            "Source Port,Destination Port,NAT Source Port,NAT Destination Port,Action,Bytes,Bytes Sent,Bytes Received,Packets,Elapsed Time (sec),pkts_sent,pkts_received\r\n",
            "57222,53,54587,53,allow,177,94,83,2,30,1,1\r\n",
            "56258,3389,56258,3389,allow,4768,1600,3168,19,17,10,9\r\n",
            "6881,50321,43265,50321,allow,238,118,120,2,1199,1,1\r\n",
            "50553,3389,50553,3389,allow,3327,1438,1889,15,17,8,7\r\n",
            "50002,443,45848,443,allow,25358,6778,18580,31,16,13,18\r\n",
            "51465,443,39975,443,allow,3961,1595,2366,21,16,12,9\r\n",
            "60513,47094,45469,47094,allow,320,140,180,6,7,3,3\r\n",
            "50049,443,21285,443,allow,7912,3269,4643,23,96,12,11\r\n",
            "52244,58774,2211,58774,allow,70,70,0,1,5,1,0\r\n"
          ],
          "name": "stdout"
        }
      ]
    },
    {
      "cell_type": "code",
      "metadata": {
        "id": "hW-AvPV9VsYC"
      },
      "source": [
        "from pyspark.sql import SparkSession\n",
        "\n",
        "# Create a Spark Session\n",
        "spark = SparkSession.builder.appName('firewall').getOrCreate()"
      ],
      "execution_count": 4,
      "outputs": []
    },
    {
      "cell_type": "code",
      "metadata": {
        "id": "y_jma36DuUEj"
      },
      "source": [
        "# Source file has headers and no data cleaning required \n",
        "df = spark.read.csv(data_file, header='true', inferSchema='true')"
      ],
      "execution_count": 5,
      "outputs": []
    },
    {
      "cell_type": "code",
      "metadata": {
        "colab": {
          "base_uri": "https://localhost:8080/"
        },
        "id": "i5uZvOSBwZRa",
        "outputId": "646487da-c0d7-4a71-b246-7ef481594107"
      },
      "source": [
        "df.printSchema()"
      ],
      "execution_count": 6,
      "outputs": [
        {
          "output_type": "stream",
          "text": [
            "root\n",
            " |-- Source Port: integer (nullable = true)\n",
            " |-- Destination Port: integer (nullable = true)\n",
            " |-- NAT Source Port: integer (nullable = true)\n",
            " |-- NAT Destination Port: integer (nullable = true)\n",
            " |-- Action: string (nullable = true)\n",
            " |-- Bytes: integer (nullable = true)\n",
            " |-- Bytes Sent: integer (nullable = true)\n",
            " |-- Bytes Received: integer (nullable = true)\n",
            " |-- Packets: integer (nullable = true)\n",
            " |-- Elapsed Time (sec): integer (nullable = true)\n",
            " |-- pkts_sent: integer (nullable = true)\n",
            " |-- pkts_received: integer (nullable = true)\n",
            "\n"
          ],
          "name": "stdout"
        }
      ]
    },
    {
      "cell_type": "code",
      "metadata": {
        "colab": {
          "base_uri": "https://localhost:8080/"
        },
        "id": "ZF9wFEH4wv-I",
        "outputId": "f1c741a8-a1c8-437d-a27f-e3646eb485cb"
      },
      "source": [
        "df.show(10)"
      ],
      "execution_count": 7,
      "outputs": [
        {
          "output_type": "stream",
          "text": [
            "+-----------+----------------+---------------+--------------------+------+-----+----------+--------------+-------+------------------+---------+-------------+\n",
            "|Source Port|Destination Port|NAT Source Port|NAT Destination Port|Action|Bytes|Bytes Sent|Bytes Received|Packets|Elapsed Time (sec)|pkts_sent|pkts_received|\n",
            "+-----------+----------------+---------------+--------------------+------+-----+----------+--------------+-------+------------------+---------+-------------+\n",
            "|      57222|              53|          54587|                  53| allow|  177|        94|            83|      2|                30|        1|            1|\n",
            "|      56258|            3389|          56258|                3389| allow| 4768|      1600|          3168|     19|                17|       10|            9|\n",
            "|       6881|           50321|          43265|               50321| allow|  238|       118|           120|      2|              1199|        1|            1|\n",
            "|      50553|            3389|          50553|                3389| allow| 3327|      1438|          1889|     15|                17|        8|            7|\n",
            "|      50002|             443|          45848|                 443| allow|25358|      6778|         18580|     31|                16|       13|           18|\n",
            "|      51465|             443|          39975|                 443| allow| 3961|      1595|          2366|     21|                16|       12|            9|\n",
            "|      60513|           47094|          45469|               47094| allow|  320|       140|           180|      6|                 7|        3|            3|\n",
            "|      50049|             443|          21285|                 443| allow| 7912|      3269|          4643|     23|                96|       12|           11|\n",
            "|      52244|           58774|           2211|               58774| allow|   70|        70|             0|      1|                 5|        1|            0|\n",
            "|      50627|             443|          16215|                 443| allow| 8256|      1674|          6582|     31|                75|       15|           16|\n",
            "+-----------+----------------+---------------+--------------------+------+-----+----------+--------------+-------+------------------+---------+-------------+\n",
            "only showing top 10 rows\n",
            "\n"
          ],
          "name": "stdout"
        }
      ]
    },
    {
      "cell_type": "markdown",
      "metadata": {
        "id": "u0bQ4LiAXeZx"
      },
      "source": [
        "## 2. Data Analysis"
      ]
    },
    {
      "cell_type": "markdown",
      "metadata": {
        "id": "oHOnWGPiXnqs"
      },
      "source": [
        "### 2.1. Analysis of Firewall Action"
      ]
    },
    {
      "cell_type": "code",
      "metadata": {
        "colab": {
          "base_uri": "https://localhost:8080/"
        },
        "id": "AWdjkkFWxdie",
        "outputId": "3d12b2af-c19d-4335-97eb-41d9dded4d15"
      },
      "source": [
        "df.select('Action').distinct().show()"
      ],
      "execution_count": 46,
      "outputs": [
        {
          "output_type": "stream",
          "text": [
            "+----------+\n",
            "|    Action|\n",
            "+----------+\n",
            "|     allow|\n",
            "|      deny|\n",
            "|      drop|\n",
            "|reset-both|\n",
            "+----------+\n",
            "\n"
          ],
          "name": "stdout"
        }
      ]
    },
    {
      "cell_type": "code",
      "metadata": {
        "id": "hEfREEzdgT5E",
        "colab": {
          "base_uri": "https://localhost:8080/"
        },
        "outputId": "65315efd-633d-41c7-ddf4-bc76f9fb0dd7"
      },
      "source": [
        "df.groupBy('Action').count().orderBy('count', ascending=False).show()"
      ],
      "execution_count": 47,
      "outputs": [
        {
          "output_type": "stream",
          "text": [
            "+----------+-----+\n",
            "|    Action|count|\n",
            "+----------+-----+\n",
            "|     allow|37640|\n",
            "|      deny|14987|\n",
            "|      drop|12851|\n",
            "|reset-both|   54|\n",
            "+----------+-----+\n",
            "\n"
          ],
          "name": "stdout"
        }
      ]
    },
    {
      "cell_type": "code",
      "metadata": {
        "colab": {
          "base_uri": "https://localhost:8080/"
        },
        "id": "Kl1YRbr--ndP",
        "outputId": "dae73fc8-d910-48ca-dc3c-71d0e6e72f0c"
      },
      "source": [
        "from pyspark.sql import functions as f\n",
        "\n",
        "df.groupBy('Action').agg(f.sum('Bytes').alias('total_bytes')).show()"
      ],
      "execution_count": 48,
      "outputs": [
        {
          "output_type": "stream",
          "text": [
            "+----------+-----------+\n",
            "|    Action|total_bytes|\n",
            "+----------+-----------+\n",
            "|     allow| 6362588560|\n",
            "|      deny|    1247094|\n",
            "|      drop|     882546|\n",
            "|reset-both|       8497|\n",
            "+----------+-----------+\n",
            "\n"
          ],
          "name": "stdout"
        }
      ]
    },
    {
      "cell_type": "code",
      "metadata": {
        "colab": {
          "base_uri": "https://localhost:8080/"
        },
        "id": "DOBLc3egCcid",
        "outputId": "c3deb4da-1c63-4fac-a3bc-c5065af71a75"
      },
      "source": [
        "df.createOrReplaceTempView('FW')\n",
        "\n",
        "spark.sql(\"\"\"\n",
        "      SELECT Action, \n",
        "        ROUND(sum(Bytes)/(1024*1024), 2) AS total_Mbytes,\n",
        "        ROUND(sum(`Bytes Sent`)/(1024*1024), 2) AS Sent_Mbytes,\n",
        "        ROUND(sum(`Bytes Received`)/(1024*1024), 2) AS Recv_Mbytes\n",
        "      FROM FW \n",
        "      GROUP BY Action\n",
        "      \"\"\").show()"
      ],
      "execution_count": 45,
      "outputs": [
        {
          "output_type": "stream",
          "text": [
            "+----------+------------+-----------+-----------+\n",
            "|    Action|total_Mbytes|Sent_Mbytes|Recv_Mbytes|\n",
            "+----------+------------+-----------+-----------+\n",
            "|     allow|     6067.84|    1396.99|    4670.85|\n",
            "|      deny|        1.19|       1.19|        0.0|\n",
            "|      drop|        0.84|       0.84|        0.0|\n",
            "|reset-both|        0.01|       0.01|        0.0|\n",
            "+----------+------------+-----------+-----------+\n",
            "\n"
          ],
          "name": "stdout"
        }
      ]
    },
    {
      "cell_type": "code",
      "metadata": {
        "colab": {
          "base_uri": "https://localhost:8080/"
        },
        "id": "me3lKis8Y1Me",
        "outputId": "ea543689-90c5-40d0-df93-7df37f617c33"
      },
      "source": [
        "# Which Destination Ports were blocked most\n",
        "spark.sql(\"\"\"\n",
        "      SELECT Action, `Destination Port`, COUNT(*) AS Count\n",
        "      FROM FW \n",
        "      WHERE Action = 'deny' \n",
        "      GROUP BY Action, `Destination Port`\n",
        "      ORDER BY Count DESC\n",
        "      LIMIT 10\n",
        "      \"\"\").show()"
      ],
      "execution_count": 49,
      "outputs": [
        {
          "output_type": "stream",
          "text": [
            "+------+----------------+-----+\n",
            "|Action|Destination Port|Count|\n",
            "+------+----------------+-----+\n",
            "|  deny|           25174| 1087|\n",
            "|  deny|            5900|  854|\n",
            "|  deny|           37965|  826|\n",
            "|  deny|           22114|  767|\n",
            "|  deny|           64147|  756|\n",
            "|  deny|           50584|  717|\n",
            "|  deny|           57470|  671|\n",
            "|  deny|           44847|  626|\n",
            "|  deny|           35440|  428|\n",
            "|  deny|           51505|  375|\n",
            "+------+----------------+-----+\n",
            "\n"
          ],
          "name": "stdout"
        }
      ]
    },
    {
      "cell_type": "code",
      "metadata": {
        "colab": {
          "base_uri": "https://localhost:8080/"
        },
        "id": "HHhdBjH2qmTb",
        "outputId": "a818dc15-ac78-4c28-f685-afd2ae3ada61"
      },
      "source": [
        "# Which Well Known Ports were blocked by firewall \n",
        "spark.sql(\"\"\"\n",
        "      SELECT Action, `Destination Port`, count(*) AS Count\n",
        "      FROM FW \n",
        "      WHERE Action = 'deny' \n",
        "      AND `Destination Port` < 1024\n",
        "      GROUP BY Action, `Destination Port`\n",
        "      ORDER BY Count DESC, `Destination Port`\n",
        "      LIMIT 20\n",
        "      \"\"\").show()"
      ],
      "execution_count": 35,
      "outputs": [
        {
          "output_type": "stream",
          "text": [
            "+------+----------------+-----+\n",
            "|Action|Destination Port|Count|\n",
            "+------+----------------+-----+\n",
            "|  deny|              23|  346|\n",
            "|  deny|               0|   88|\n",
            "|  deny|              22|   81|\n",
            "|  deny|               1|   65|\n",
            "|  deny|             445|   40|\n",
            "|  deny|              53|   29|\n",
            "|  deny|              67|   22|\n",
            "|  deny|              17|   19|\n",
            "|  deny|              21|   18|\n",
            "|  deny|              81|   13|\n",
            "|  deny|             123|   13|\n",
            "|  deny|              25|   12|\n",
            "|  deny|              37|   12|\n",
            "|  deny|              80|    7|\n",
            "|  deny|             161|    7|\n",
            "|  deny|             443|    7|\n",
            "|  deny|             138|    6|\n",
            "|  deny|             990|    6|\n",
            "|  deny|             995|    6|\n",
            "|  deny|             502|    5|\n",
            "+------+----------------+-----+\n",
            "\n"
          ],
          "name": "stdout"
        }
      ]
    },
    {
      "cell_type": "code",
      "metadata": {
        "colab": {
          "base_uri": "https://localhost:8080/"
        },
        "id": "1KkeMiUKrp7L",
        "outputId": "8761fe1f-4eef-4660-bea3-c37909d8ce5a"
      },
      "source": [
        "# Breakdown of Destination Port Types blocked by firewall\n",
        "spark.sql(\"\"\"\n",
        "      SELECT Action, \n",
        "      CASE \n",
        "          WHEN (`Destination Port` < 1024) THEN 'Well-Known'\n",
        "          WHEN (`Destination Port` < 49152) THEN 'Registered'\n",
        "          ELSE 'Dynamic/Private'\n",
        "      END AS Dest_Port_Type,\n",
        "      COUNT(*) AS Count\n",
        "      FROM FW \n",
        "      WHERE Action = 'deny' \n",
        "      GROUP BY Action, Dest_Port_Type\n",
        "      ORDER BY Count DESC\n",
        "      \"\"\").show()"
      ],
      "execution_count": 40,
      "outputs": [
        {
          "output_type": "stream",
          "text": [
            "+------+---------------+-----+\n",
            "|Action| Dest_Port_Type|Count|\n",
            "+------+---------------+-----+\n",
            "|  deny|     Registered| 9631|\n",
            "|  deny|Dynamic/Private| 4535|\n",
            "|  deny|     Well-Known|  821|\n",
            "+------+---------------+-----+\n",
            "\n"
          ],
          "name": "stdout"
        }
      ]
    },
    {
      "cell_type": "code",
      "metadata": {
        "colab": {
          "base_uri": "https://localhost:8080/"
        },
        "id": "7LYMerRUu1gW",
        "outputId": "9aaf27a9-70fd-4406-c8ad-c9748bf79141"
      },
      "source": [
        "# Breakdown of Dest Port Types by firewall Action\n",
        "spark.sql(\"\"\"\n",
        "      SELECT Action, \n",
        "      CASE \n",
        "          WHEN (`Destination Port` < 1024) THEN 'Well-Known'\n",
        "          WHEN (`Destination Port` < 49152) THEN 'Registered'\n",
        "          ELSE 'Dynamic/Private'\n",
        "      END AS Dest_Port_Type,\n",
        "      COUNT(*) AS Count\n",
        "      FROM FW \n",
        "      GROUP BY Action, Dest_Port_Type\n",
        "      ORDER BY Action, Dest_Port_Type DESC\n",
        "      \"\"\").show()"
      ],
      "execution_count": 44,
      "outputs": [
        {
          "output_type": "stream",
          "text": [
            "+----------+---------------+-----+\n",
            "|    Action| Dest_Port_Type|Count|\n",
            "+----------+---------------+-----+\n",
            "|     allow|     Well-Known|31522|\n",
            "|     allow|     Registered| 5103|\n",
            "|     allow|Dynamic/Private| 1015|\n",
            "|      deny|     Well-Known|  821|\n",
            "|      deny|     Registered| 9631|\n",
            "|      deny|Dynamic/Private| 4535|\n",
            "|      drop|     Well-Known|12851|\n",
            "|reset-both|     Well-Known|    1|\n",
            "|reset-both|     Registered|   46|\n",
            "|reset-both|Dynamic/Private|    7|\n",
            "+----------+---------------+-----+\n",
            "\n"
          ],
          "name": "stdout"
        }
      ]
    },
    {
      "cell_type": "code",
      "metadata": {
        "colab": {
          "base_uri": "https://localhost:8080/"
        },
        "id": "pxUnJbWwcA5o",
        "outputId": "c22d34c9-f749-41f2-8421-387d3c0e755b"
      },
      "source": [
        "spark.sql(\"\"\"\n",
        "      SELECT Action, sum(pkts_received) AS total_pkts_rx\n",
        "      FROM FW \n",
        "      WHERE Action = 'deny' \n",
        "      GROUP BY Action\n",
        "      LIMIT 10\n",
        "      \"\"\").show()"
      ],
      "execution_count": 25,
      "outputs": [
        {
          "output_type": "stream",
          "text": [
            "+------+-------------+\n",
            "|Action|total_pkts_rx|\n",
            "+------+-------------+\n",
            "|  deny|           16|\n",
            "+------+-------------+\n",
            "\n"
          ],
          "name": "stdout"
        }
      ]
    },
    {
      "cell_type": "code",
      "metadata": {
        "colab": {
          "base_uri": "https://localhost:8080/"
        },
        "id": "0xbmHeCdddMp",
        "outputId": "35496627-f07d-47f9-a979-0585505f12ec"
      },
      "source": [
        "spark.sql(\"\"\"\n",
        "      SELECT Action, pkts_received\n",
        "      FROM FW \n",
        "      WHERE Action = 'deny' \n",
        "      AND pkts_received > 0\n",
        "      LIMIT 20\n",
        "      \"\"\").show()"
      ],
      "execution_count": 26,
      "outputs": [
        {
          "output_type": "stream",
          "text": [
            "+------+-------------+\n",
            "|Action|pkts_received|\n",
            "+------+-------------+\n",
            "|  deny|            2|\n",
            "|  deny|            2|\n",
            "|  deny|            2|\n",
            "|  deny|            2|\n",
            "|  deny|            2|\n",
            "|  deny|            2|\n",
            "|  deny|            2|\n",
            "|  deny|            2|\n",
            "+------+-------------+\n",
            "\n"
          ],
          "name": "stdout"
        }
      ]
    },
    {
      "cell_type": "code",
      "metadata": {
        "colab": {
          "base_uri": "https://localhost:8080/"
        },
        "id": "XN0y8yzvyVok",
        "outputId": "e1228748-cf78-4988-b680-e5474ef7c497"
      },
      "source": [
        "spark.sql(\"\"\"\n",
        "      SELECT *\n",
        "      FROM FW \n",
        "      WHERE Action = 'deny' \n",
        "      AND pkts_received > 0\n",
        "      LIMIT 20\n",
        "      \"\"\").show()"
      ],
      "execution_count": 50,
      "outputs": [
        {
          "output_type": "stream",
          "text": [
            "+-----------+----------------+---------------+--------------------+------+-----+----------+--------------+-------+------------------+---------+-------------+\n",
            "|Source Port|Destination Port|NAT Source Port|NAT Destination Port|Action|Bytes|Bytes Sent|Bytes Received|Packets|Elapsed Time (sec)|pkts_sent|pkts_received|\n",
            "+-----------+----------------+---------------+--------------------+------+-----+----------+--------------+-------+------------------+---------+-------------+\n",
            "|      53193|              22|          53193|                  22|  deny|  295|       126|           169|      4|                 0|        2|            2|\n",
            "|      49630|              22|          49630|                  22|  deny|  295|       126|           169|      4|                 1|        2|            2|\n",
            "|      59373|              22|          59373|                  22|  deny|  295|       126|           169|      4|                 1|        2|            2|\n",
            "|      62347|              25|          62347|                  25|  deny|  291|       126|           165|      4|                 0|        2|            2|\n",
            "|      59312|              22|          59312|                  22|  deny|  327|       140|           187|      4|                 0|        2|            2|\n",
            "|      51051|              22|          51051|                  22|  deny|  327|       140|           187|      4|                 0|        2|            2|\n",
            "|      55898|             443|          55898|                 443|  deny| 1850|       431|          1419|      5|                 0|        3|            2|\n",
            "|      36930|              22|          36930|                  22|  deny|  293|       126|           167|      4|                 0|        2|            2|\n",
            "+-----------+----------------+---------------+--------------------+------+-----+----------+--------------+-------+------------------+---------+-------------+\n",
            "\n"
          ],
          "name": "stdout"
        }
      ]
    },
    {
      "cell_type": "markdown",
      "metadata": {
        "id": "5h9TsvifyyHq"
      },
      "source": [
        "The firewall blocked traffic to SSH (22) and HTTPS (443) ports in the above query"
      ]
    }
  ]
}