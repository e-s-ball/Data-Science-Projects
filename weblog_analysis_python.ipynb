{
  "nbformat": 4,
  "nbformat_minor": 0,
  "metadata": {
    "colab": {
      "name": "weblog_analysis_python.ipynb",
      "provenance": [],
      "collapsed_sections": []
    },
    "kernelspec": {
      "display_name": "Python 3",
      "language": "python",
      "name": "python3"
    },
    "language_info": {
      "codemirror_mode": {
        "name": "ipython",
        "version": 3
      },
      "file_extension": ".py",
      "mimetype": "text/x-python",
      "name": "python",
      "nbconvert_exporter": "python",
      "pygments_lexer": "ipython3",
      "version": "3.9.2"
    },
    "name": "SampleCode",
    "notebookId": 2691131752868967
  },
  "cells": [
    {
      "cell_type": "markdown",
      "metadata": {
        "id": "r85LNibZkSUZ"
      },
      "source": [
        "\n",
        "\n",
        "## 1.  Data ETL"
      ]
    },
    {
      "cell_type": "markdown",
      "metadata": {
        "id": "HtL_9QR27_Iu"
      },
      "source": [
        "### 1.1 Data Loading\n",
        "\n",
        "Load weblog files from Google Drive into a Pandas dataframe and monitor number of files processed"
      ]
    },
    {
      "cell_type": "code",
      "metadata": {
        "id": "sYS-P55jfzFL",
        "colab": {
          "base_uri": "https://localhost:8080/"
        },
        "outputId": "b27e752b-7744-4f92-c0aa-a28230f0c0b5"
      },
      "source": [
        "# To access files on Google Drive\n",
        "from google.colab import drive\n",
        "\n",
        "drive.mount('/content/drive') "
      ],
      "execution_count": 2,
      "outputs": [
        {
          "output_type": "stream",
          "text": [
            "Mounted at /content/drive\n"
          ],
          "name": "stdout"
        }
      ]
    },
    {
      "cell_type": "code",
      "metadata": {
        "id": "ID9Ch4jMmLOJ"
      },
      "source": [
        "# Location of the tar file on Google Drive\n",
        "file_name = '/content/drive/MyDrive/weblog.tar.gz'"
      ],
      "execution_count": 6,
      "outputs": []
    },
    {
      "cell_type": "code",
      "metadata": {
        "colab": {
          "base_uri": "https://localhost:8080/"
        },
        "id": "A6gV_wNZmT2Z",
        "outputId": "22a92797-1f83-490a-da1b-4db02290e262"
      },
      "source": [
        "!tar -tzf $file_name"
      ],
      "execution_count": 9,
      "outputs": [
        {
          "output_type": "stream",
          "text": [
            "weblog/\n",
            "weblog/ex061102.log\n",
            "weblog/ex061103.log\n",
            "weblog/ex061104.log\n",
            "weblog/ex061105.log\n",
            "weblog/ex061101.log\n"
          ],
          "name": "stdout"
        }
      ]
    },
    {
      "cell_type": "code",
      "metadata": {
        "colab": {
          "base_uri": "https://localhost:8080/"
        },
        "id": "90viTtVdWC9V",
        "outputId": "1fdaace1-03d4-46be-cad2-b14a4e313a5c"
      },
      "source": [
        "import tarfile\n",
        "import pandas as pd\n",
        "\n",
        "# Empty list to hold dataframe for each file\n",
        "data = []\n",
        "\n",
        "# Variable to store number of files processed \n",
        "filecount = 0\n",
        "\n",
        "# Define column headers\n",
        "col_names=['date','time','s-sitename','s-ip','cs-method','cs-uri-stem',\n",
        "           'cs-uri-query','s-port','cs-username', 'c-ip','cs(User-Agent)',\n",
        "           'cs(Referer)','sc-status','sc-substatus','sc-win32-status']\n",
        "\n",
        "with tarfile.open(file_name) as tar:\n",
        "  for logfile in [n for n in tar.getnames() if n.endswith('.log')]:\n",
        "    print('Processing: ', logfile)\n",
        "    df = pd.read_csv(tar.extractfile(logfile), \n",
        "                     delim_whitespace=True, # fields are space delimited\n",
        "                     comment= '#', # To remove 4 info lines at top of logfile\n",
        "                     header = None, # Header has extra 'Fields:' column\n",
        "                     na_values='-', # NA columns are marked with - in logfile\n",
        "                     names=col_names, # Set column headers\n",
        "                     error_bad_lines=False, encoding = 'iso-8859-1')\n",
        "    data.append(df)\n",
        "    filecount+= 1\n",
        "\n",
        "# Cleanup\n",
        "del(df)\n",
        "\n",
        "print('Number of files processed: ', filecount)\n",
        "\n",
        "# Concatenate all dataframes in the list into a single dataframe\n",
        "df_web = pd.concat(data)"
      ],
      "execution_count": 10,
      "outputs": [
        {
          "output_type": "stream",
          "text": [
            "Processing:  weblog/ex061102.log\n",
            "Processing:  weblog/ex061103.log\n",
            "Processing:  weblog/ex061104.log\n",
            "Processing:  weblog/ex061105.log\n",
            "Processing:  weblog/ex061101.log\n",
            "Number of files processed:  5\n"
          ],
          "name": "stdout"
        }
      ]
    },
    {
      "cell_type": "code",
      "metadata": {
        "colab": {
          "base_uri": "https://localhost:8080/",
          "height": 343
        },
        "id": "m9yl7ErieDpJ",
        "outputId": "fdb49a07-7a73-4c7c-878c-fdd34750e22a"
      },
      "source": [
        "# View 5 rows of the data\n",
        "df_web.head()"
      ],
      "execution_count": 11,
      "outputs": [
        {
          "output_type": "execute_result",
          "data": {
            "text/html": [
              "<div>\n",
              "<style scoped>\n",
              "    .dataframe tbody tr th:only-of-type {\n",
              "        vertical-align: middle;\n",
              "    }\n",
              "\n",
              "    .dataframe tbody tr th {\n",
              "        vertical-align: top;\n",
              "    }\n",
              "\n",
              "    .dataframe thead th {\n",
              "        text-align: right;\n",
              "    }\n",
              "</style>\n",
              "<table border=\"1\" class=\"dataframe\">\n",
              "  <thead>\n",
              "    <tr style=\"text-align: right;\">\n",
              "      <th></th>\n",
              "      <th>date</th>\n",
              "      <th>time</th>\n",
              "      <th>s-sitename</th>\n",
              "      <th>s-ip</th>\n",
              "      <th>cs-method</th>\n",
              "      <th>cs-uri-stem</th>\n",
              "      <th>cs-uri-query</th>\n",
              "      <th>s-port</th>\n",
              "      <th>cs-username</th>\n",
              "      <th>c-ip</th>\n",
              "      <th>cs(User-Agent)</th>\n",
              "      <th>cs(Referer)</th>\n",
              "      <th>sc-status</th>\n",
              "      <th>sc-substatus</th>\n",
              "      <th>sc-win32-status</th>\n",
              "    </tr>\n",
              "  </thead>\n",
              "  <tbody>\n",
              "    <tr>\n",
              "      <th>0</th>\n",
              "      <td>2006-11-02</td>\n",
              "      <td>00:00:08</td>\n",
              "      <td>W3SVC1</td>\n",
              "      <td>127.0.0.1</td>\n",
              "      <td>GET</td>\n",
              "      <td>/Default.aspx</td>\n",
              "      <td>NaN</td>\n",
              "      <td>80</td>\n",
              "      <td>NaN</td>\n",
              "      <td>59.188.33.66</td>\n",
              "      <td>Mozilla/4.0+(compatible;+MSIE+6.0;+Windows+NT+...</td>\n",
              "      <td>NaN</td>\n",
              "      <td>200.0</td>\n",
              "      <td>0.0</td>\n",
              "      <td>0.0</td>\n",
              "    </tr>\n",
              "    <tr>\n",
              "      <th>1</th>\n",
              "      <td>2006-11-02</td>\n",
              "      <td>00:00:08</td>\n",
              "      <td>W3SVC1</td>\n",
              "      <td>127.0.0.1</td>\n",
              "      <td>GET</td>\n",
              "      <td>/Tulip/home/en-us/home_index.aspx</td>\n",
              "      <td>NaN</td>\n",
              "      <td>80</td>\n",
              "      <td>NaN</td>\n",
              "      <td>59.188.33.66</td>\n",
              "      <td>Mozilla/4.0+(compatible;+MSIE+6.0;+Windows+NT+...</td>\n",
              "      <td>NaN</td>\n",
              "      <td>200.0</td>\n",
              "      <td>0.0</td>\n",
              "      <td>0.0</td>\n",
              "    </tr>\n",
              "    <tr>\n",
              "      <th>2</th>\n",
              "      <td>2006-11-02</td>\n",
              "      <td>00:00:08</td>\n",
              "      <td>W3SVC1</td>\n",
              "      <td>127.0.0.1</td>\n",
              "      <td>GET</td>\n",
              "      <td>/Tulip/common/common_style.aspx</td>\n",
              "      <td>lang=en-us</td>\n",
              "      <td>80</td>\n",
              "      <td>NaN</td>\n",
              "      <td>59.188.33.66</td>\n",
              "      <td>Mozilla/4.0+(compatible;+MSIE+6.0;+Windows+NT+...</td>\n",
              "      <td>http://www.hotelTulip.com.hk/Tulip/home/en-us/...</td>\n",
              "      <td>200.0</td>\n",
              "      <td>0.0</td>\n",
              "      <td>0.0</td>\n",
              "    </tr>\n",
              "    <tr>\n",
              "      <th>3</th>\n",
              "      <td>2006-11-02</td>\n",
              "      <td>00:00:08</td>\n",
              "      <td>W3SVC1</td>\n",
              "      <td>127.0.0.1</td>\n",
              "      <td>GET</td>\n",
              "      <td>/Tulip/includes/js/CommonUtil.js</td>\n",
              "      <td>NaN</td>\n",
              "      <td>80</td>\n",
              "      <td>NaN</td>\n",
              "      <td>59.188.33.66</td>\n",
              "      <td>Mozilla/4.0+(compatible;+MSIE+6.0;+Windows+NT+...</td>\n",
              "      <td>http://www.hotelTulip.com.hk/Tulip/home/en-us/...</td>\n",
              "      <td>200.0</td>\n",
              "      <td>0.0</td>\n",
              "      <td>0.0</td>\n",
              "    </tr>\n",
              "    <tr>\n",
              "      <th>4</th>\n",
              "      <td>2006-11-02</td>\n",
              "      <td>00:00:08</td>\n",
              "      <td>W3SVC1</td>\n",
              "      <td>127.0.0.1</td>\n",
              "      <td>GET</td>\n",
              "      <td>/Tulip/common/en-us/images/top_logo.gif</td>\n",
              "      <td>NaN</td>\n",
              "      <td>80</td>\n",
              "      <td>NaN</td>\n",
              "      <td>59.188.33.66</td>\n",
              "      <td>Mozilla/4.0+(compatible;+MSIE+6.0;+Windows+NT+...</td>\n",
              "      <td>http://www.hotelTulip.com.hk/Tulip/home/en-us/...</td>\n",
              "      <td>200.0</td>\n",
              "      <td>0.0</td>\n",
              "      <td>0.0</td>\n",
              "    </tr>\n",
              "  </tbody>\n",
              "</table>\n",
              "</div>"
            ],
            "text/plain": [
              "         date      time s-sitename  ... sc-status sc-substatus sc-win32-status\n",
              "0  2006-11-02  00:00:08     W3SVC1  ...     200.0          0.0             0.0\n",
              "1  2006-11-02  00:00:08     W3SVC1  ...     200.0          0.0             0.0\n",
              "2  2006-11-02  00:00:08     W3SVC1  ...     200.0          0.0             0.0\n",
              "3  2006-11-02  00:00:08     W3SVC1  ...     200.0          0.0             0.0\n",
              "4  2006-11-02  00:00:08     W3SVC1  ...     200.0          0.0             0.0\n",
              "\n",
              "[5 rows x 15 columns]"
            ]
          },
          "metadata": {
            "tags": []
          },
          "execution_count": 11
        }
      ]
    },
    {
      "cell_type": "code",
      "metadata": {
        "colab": {
          "base_uri": "https://localhost:8080/"
        },
        "id": "sZ9qYyaymxn6",
        "outputId": "28d5d926-c7c1-4854-ceac-e541c52d9b0a"
      },
      "source": [
        "# View data types and total rows for the dataframe\n",
        "df_web.info()"
      ],
      "execution_count": 12,
      "outputs": [
        {
          "output_type": "stream",
          "text": [
            "<class 'pandas.core.frame.DataFrame'>\n",
            "Int64Index: 295612 entries, 0 to 77462\n",
            "Data columns (total 15 columns):\n",
            " #   Column           Non-Null Count   Dtype  \n",
            "---  ------           --------------   -----  \n",
            " 0   date             295612 non-null  object \n",
            " 1   time             295612 non-null  object \n",
            " 2   s-sitename       295612 non-null  object \n",
            " 3   s-ip             295612 non-null  object \n",
            " 4   cs-method        295612 non-null  object \n",
            " 5   cs-uri-stem      295612 non-null  object \n",
            " 6   cs-uri-query     18883 non-null   object \n",
            " 7   s-port           295612 non-null  int64  \n",
            " 8   cs-username      0 non-null       float64\n",
            " 9   c-ip             295612 non-null  object \n",
            " 10  cs(User-Agent)   295554 non-null  object \n",
            " 11  cs(Referer)      238989 non-null  object \n",
            " 12  sc-status        295439 non-null  float64\n",
            " 13  sc-substatus     295439 non-null  float64\n",
            " 14  sc-win32-status  295439 non-null  float64\n",
            "dtypes: float64(4), int64(1), object(10)\n",
            "memory usage: 36.1+ MB\n"
          ],
          "name": "stdout"
        }
      ]
    },
    {
      "cell_type": "markdown",
      "metadata": {
        "id": "LPoiYXWMo8k5"
      },
      "source": [
        "### 1.2 Data Cleaning\n",
        "\n",
        "Remove columns with > 15% NAs then remove remaining records with any NAs."
      ]
    },
    {
      "cell_type": "code",
      "metadata": {
        "colab": {
          "base_uri": "https://localhost:8080/"
        },
        "id": "il29byK1qUFF",
        "outputId": "679968ab-738d-4769-d36c-dd5c3be54d5a"
      },
      "source": [
        "# Find NAs in each column\n",
        "df_web.isna().sum()"
      ],
      "execution_count": 13,
      "outputs": [
        {
          "output_type": "execute_result",
          "data": {
            "text/plain": [
              "date                    0\n",
              "time                    0\n",
              "s-sitename              0\n",
              "s-ip                    0\n",
              "cs-method               0\n",
              "cs-uri-stem             0\n",
              "cs-uri-query       276729\n",
              "s-port                  0\n",
              "cs-username        295612\n",
              "c-ip                    0\n",
              "cs(User-Agent)         58\n",
              "cs(Referer)         56623\n",
              "sc-status             173\n",
              "sc-substatus          173\n",
              "sc-win32-status       173\n",
              "dtype: int64"
            ]
          },
          "metadata": {
            "tags": []
          },
          "execution_count": 13
        }
      ]
    },
    {
      "cell_type": "code",
      "metadata": {
        "colab": {
          "base_uri": "https://localhost:8080/"
        },
        "id": "0LaAtOLgDcet",
        "outputId": "bfcf180b-ab2d-4188-f74c-5391aae9cd6e"
      },
      "source": [
        "# Find % of NAs in each column\n",
        "round(df_web.isna().sum()/len(df_web) * 100)"
      ],
      "execution_count": 17,
      "outputs": [
        {
          "output_type": "execute_result",
          "data": {
            "text/plain": [
              "date                 0.0\n",
              "time                 0.0\n",
              "s-sitename           0.0\n",
              "s-ip                 0.0\n",
              "cs-method            0.0\n",
              "cs-uri-stem          0.0\n",
              "cs-uri-query        94.0\n",
              "s-port               0.0\n",
              "cs-username        100.0\n",
              "c-ip                 0.0\n",
              "cs(User-Agent)       0.0\n",
              "cs(Referer)         19.0\n",
              "sc-status            0.0\n",
              "sc-substatus         0.0\n",
              "sc-win32-status      0.0\n",
              "dtype: float64"
            ]
          },
          "metadata": {
            "tags": []
          },
          "execution_count": 17
        }
      ]
    },
    {
      "cell_type": "markdown",
      "metadata": {
        "id": "SFqxPBBkMQb2"
      },
      "source": [
        "The following columns have a high percentage of NAs and need to be dropped:\n",
        " \n",
        "*   cs-uri-query        94%\n",
        "*   cs-username        100%\n",
        "*   cs(Referer)          19%"
      ]
    },
    {
      "cell_type": "code",
      "metadata": {
        "colab": {
          "base_uri": "https://localhost:8080/"
        },
        "id": "z4H6lahQMMlC",
        "outputId": "f4c22906-cc81-4494-f92f-2cb51db36534"
      },
      "source": [
        "# Drop 3 columns with > 15% NAs\n",
        "df_web = df_web.drop(['cs-uri-query', 'cs-username', 'cs(Referer)'], axis=1)\n",
        "df_web.info()"
      ],
      "execution_count": 19,
      "outputs": [
        {
          "output_type": "stream",
          "text": [
            "<class 'pandas.core.frame.DataFrame'>\n",
            "Int64Index: 295612 entries, 0 to 77462\n",
            "Data columns (total 12 columns):\n",
            " #   Column           Non-Null Count   Dtype  \n",
            "---  ------           --------------   -----  \n",
            " 0   date             295612 non-null  object \n",
            " 1   time             295612 non-null  object \n",
            " 2   s-sitename       295612 non-null  object \n",
            " 3   s-ip             295612 non-null  object \n",
            " 4   cs-method        295612 non-null  object \n",
            " 5   cs-uri-stem      295612 non-null  object \n",
            " 6   s-port           295612 non-null  int64  \n",
            " 7   c-ip             295612 non-null  object \n",
            " 8   cs(User-Agent)   295554 non-null  object \n",
            " 9   sc-status        295439 non-null  float64\n",
            " 10  sc-substatus     295439 non-null  float64\n",
            " 11  sc-win32-status  295439 non-null  float64\n",
            "dtypes: float64(3), int64(1), object(8)\n",
            "memory usage: 29.3+ MB\n"
          ],
          "name": "stdout"
        }
      ]
    },
    {
      "cell_type": "markdown",
      "metadata": {
        "id": "VLKnmlyfmLhV"
      },
      "source": [
        "Drop remaining rows containing NAs."
      ]
    },
    {
      "cell_type": "code",
      "metadata": {
        "id": "hdmZPyHDPsEw"
      },
      "source": [
        "# Drop rows with NAs\n",
        "df_web.dropna(axis=0, how= 'any', inplace= True)"
      ],
      "execution_count": 23,
      "outputs": []
    },
    {
      "cell_type": "code",
      "metadata": {
        "colab": {
          "base_uri": "https://localhost:8080/"
        },
        "id": "8iu78OCcPyd6",
        "outputId": "0450714b-f0bc-4277-ac61-e6420064bc33"
      },
      "source": [
        "# Find updated number of NAs in each column\n",
        "df_web.isna().sum()"
      ],
      "execution_count": 24,
      "outputs": [
        {
          "output_type": "execute_result",
          "data": {
            "text/plain": [
              "date               0\n",
              "time               0\n",
              "s-sitename         0\n",
              "s-ip               0\n",
              "cs-method          0\n",
              "cs-uri-stem        0\n",
              "s-port             0\n",
              "c-ip               0\n",
              "cs(User-Agent)     0\n",
              "sc-status          0\n",
              "sc-substatus       0\n",
              "sc-win32-status    0\n",
              "dtype: int64"
            ]
          },
          "metadata": {
            "tags": []
          },
          "execution_count": 24
        }
      ]
    },
    {
      "cell_type": "code",
      "metadata": {
        "colab": {
          "base_uri": "https://localhost:8080/"
        },
        "id": "eUyGuB6gQhX7",
        "outputId": "dbd9ae10-7eac-4ad8-abb6-23778a8a968b"
      },
      "source": [
        "# Updated data counts\n",
        "df_web.info()"
      ],
      "execution_count": 25,
      "outputs": [
        {
          "output_type": "stream",
          "text": [
            "<class 'pandas.core.frame.DataFrame'>\n",
            "Int64Index: 295381 entries, 0 to 77462\n",
            "Data columns (total 12 columns):\n",
            " #   Column           Non-Null Count   Dtype  \n",
            "---  ------           --------------   -----  \n",
            " 0   date             295381 non-null  object \n",
            " 1   time             295381 non-null  object \n",
            " 2   s-sitename       295381 non-null  object \n",
            " 3   s-ip             295381 non-null  object \n",
            " 4   cs-method        295381 non-null  object \n",
            " 5   cs-uri-stem      295381 non-null  object \n",
            " 6   s-port           295381 non-null  int64  \n",
            " 7   c-ip             295381 non-null  object \n",
            " 8   cs(User-Agent)   295381 non-null  object \n",
            " 9   sc-status        295381 non-null  float64\n",
            " 10  sc-substatus     295381 non-null  float64\n",
            " 11  sc-win32-status  295381 non-null  float64\n",
            "dtypes: float64(3), int64(1), object(8)\n",
            "memory usage: 29.3+ MB\n"
          ],
          "name": "stdout"
        }
      ]
    },
    {
      "cell_type": "markdown",
      "metadata": {
        "id": "1ts2WZ4DPZ7V"
      },
      "source": [
        "Data has been cleaned.  Number of rows remaining is 295,381 "
      ]
    },
    {
      "cell_type": "markdown",
      "metadata": {
        "id": "mq3sWOXtrZhF"
      },
      "source": [
        "## 2. Data Analysis"
      ]
    },
    {
      "cell_type": "code",
      "metadata": {
        "id": "19EhpLspkSUZ"
      },
      "source": [
        "import matplotlib.pyplot as plt"
      ],
      "execution_count": 27,
      "outputs": []
    },
    {
      "cell_type": "markdown",
      "metadata": {
        "id": "BJuh1nsirmOy"
      },
      "source": [
        "### 2.1 Traffic Analysis\n",
        "\n",
        "Group web requests by hour and day to determine hourly traffic trends."
      ]
    },
    {
      "cell_type": "code",
      "metadata": {
        "id": "DAH1IrWbfQQW",
        "colab": {
          "base_uri": "https://localhost:8080/"
        },
        "outputId": "ed38f2d3-e84a-4ec5-80d4-5bb62e87671d"
      },
      "source": [
        "# Group number of requests by hour of day\n",
        "\n",
        "# Create a new column with the hour values e.g., 00, 01, 02, .., 23\n",
        "df_web['hour'] = df_web['time'].str.slice(0, 2)\n",
        "\n",
        "# Count number of requests by hour\n",
        "hour_distr = df_web['hour'].value_counts().sort_index()\n",
        "hour_distr"
      ],
      "execution_count": 26,
      "outputs": [
        {
          "output_type": "execute_result",
          "data": {
            "text/plain": [
              "00     6010\n",
              "01    12559\n",
              "02    15310\n",
              "03    17229\n",
              "04    15802\n",
              "05    16170\n",
              "06    21819\n",
              "07    19491\n",
              "08    21260\n",
              "09    18499\n",
              "10    13523\n",
              "11    11316\n",
              "12    11404\n",
              "13    14732\n",
              "14    15328\n",
              "15    18117\n",
              "16    13889\n",
              "17    10641\n",
              "18     7415\n",
              "19     3505\n",
              "20     2936\n",
              "21     2220\n",
              "22     2352\n",
              "23     3854\n",
              "Name: hour, dtype: int64"
            ]
          },
          "metadata": {
            "tags": []
          },
          "execution_count": 26
        }
      ]
    },
    {
      "cell_type": "code",
      "metadata": {
        "colab": {
          "base_uri": "https://localhost:8080/",
          "height": 467
        },
        "id": "nGX_LTAMTFgE",
        "outputId": "0ed83993-5aac-4b73-b55e-c22f3038e103"
      },
      "source": [
        "# Create a bar chart of the web traffic distribution by hour\n",
        "%matplotlib inline\n",
        "\n",
        "plt.style.use('seaborn-pastel')\n",
        "\n",
        "# Figure Size\n",
        "fig = plt.figure(figsize =(10, 7))\n",
        "\n",
        "plt.bar(hour_distr.index, hour_distr.values)\n",
        "plt.xlabel('Hour of Day', fontweight ='bold', fontsize = 15)\n",
        "plt.ylabel('Number of Web Requests', fontweight ='bold', fontsize = 15)\n",
        "plt.title('Requests per Hour', fontweight ='bold', fontsize = 18)\n",
        "plt.show()"
      ],
      "execution_count": 28,
      "outputs": [
        {
          "output_type": "display_data",
          "data": {
            "image/png": "[encoded data removed]",
            "text/plain": [
              "<Figure size 720x504 with 1 Axes>"
            ]
          },
          "metadata": {
            "tags": [],
            "needs_background": "light"
          }
        }
      ]
    },
    {
      "cell_type": "code",
      "metadata": {
        "colab": {
          "base_uri": "https://localhost:8080/"
        },
        "id": "MDAuSrQlvZ5k",
        "outputId": "6a4232da-3e45-4496-a4b9-5fff22353b93"
      },
      "source": [
        "# Group number of requests by hour and day\n",
        "\n",
        "# Create a new column with the date and hour values e.g., 2006-11-0100, 2006-11-0101, 2006-11-0102, ..\n",
        "df_web['date_hour'] = df_web.date.str.cat(df_web.hour)\n",
        "\n",
        "# Count number of requests by date and hour\n",
        "date_hour_distr = df_web['date_hour'].value_counts().sort_index()\n",
        "date_hour_distr"
      ],
      "execution_count": 31,
      "outputs": [
        {
          "output_type": "execute_result",
          "data": {
            "text/plain": [
              "2006-11-0100    1612\n",
              "2006-11-0101    2385\n",
              "2006-11-0102    2998\n",
              "2006-11-0103    2810\n",
              "2006-11-0104    3262\n",
              "                ... \n",
              "2006-11-0519     966\n",
              "2006-11-0520     426\n",
              "2006-11-0521     265\n",
              "2006-11-0522     186\n",
              "2006-11-0523     404\n",
              "Name: date_hour, Length: 120, dtype: int64"
            ]
          },
          "metadata": {
            "tags": []
          },
          "execution_count": 31
        }
      ]
    },
    {
      "cell_type": "code",
      "metadata": {
        "colab": {
          "base_uri": "https://localhost:8080/",
          "height": 450
        },
        "id": "-OWuE6guvoZ6",
        "outputId": "6b872587-cd5a-45f8-ba63-2431fc136bc0"
      },
      "source": [
        "# Create a bar chart of the web traffic distribution by date and hour\n",
        "%matplotlib inline\n",
        "\n",
        "plt.style.use('seaborn-pastel')\n",
        "\n",
        "# Figure Size\n",
        "fig = plt.figure(figsize =(10, 7))\n",
        "\n",
        "plt.bar(date_hour_distr.index, date_hour_distr.values)\n",
        "plt.xlabel('Hourly Traffic: 1 - 5 Nov 2006', fontweight ='bold', fontsize = 15)\n",
        "plt.xticks([])\n",
        "plt.ylabel('Number of Web Requests', fontweight ='bold', fontsize = 15)\n",
        "plt.title('Requests per Hour', fontweight ='bold', fontsize = 18)\n",
        "plt.show()"
      ],
      "execution_count": 43,
      "outputs": [
        {
          "output_type": "display_data",
          "data": {
            "image/png": "[encoded data removed]",
            "text/plain": [
              "<Figure size 720x504 with 1 Axes>"
            ]
          },
          "metadata": {
            "tags": [],
            "needs_background": "light"
          }
        }
      ]
    },
    {
      "cell_type": "code",
      "metadata": {
        "id": "TLArAkrH0rig",
        "colab": {
          "base_uri": "https://localhost:8080/",
          "height": 235
        },
        "outputId": "aaef7616-fe4b-4371-fa2a-d1ad81fa7d43"
      },
      "source": [
        "# Filter for times with traffic above 5000 requests per hour\n",
        "df_5k = date_hour_distr[(date_hour_distr >= 5000)].sort_index().reset_index()\n",
        "df_5k.columns = ['Date_Hour', 'Traffic']\n",
        "df_5k"
      ],
      "execution_count": 45,
      "outputs": [
        {
          "output_type": "execute_result",
          "data": {
            "text/html": [
              "<div>\n",
              "<style scoped>\n",
              "    .dataframe tbody tr th:only-of-type {\n",
              "        vertical-align: middle;\n",
              "    }\n",
              "\n",
              "    .dataframe tbody tr th {\n",
              "        vertical-align: top;\n",
              "    }\n",
              "\n",
              "    .dataframe thead th {\n",
              "        text-align: right;\n",
              "    }\n",
              "</style>\n",
              "<table border=\"1\" class=\"dataframe\">\n",
              "  <thead>\n",
              "    <tr style=\"text-align: right;\">\n",
              "      <th></th>\n",
              "      <th>Date_Hour</th>\n",
              "      <th>Traffic</th>\n",
              "    </tr>\n",
              "  </thead>\n",
              "  <tbody>\n",
              "    <tr>\n",
              "      <th>0</th>\n",
              "      <td>2006-11-0106</td>\n",
              "      <td>9278</td>\n",
              "    </tr>\n",
              "    <tr>\n",
              "      <th>1</th>\n",
              "      <td>2006-11-0107</td>\n",
              "      <td>8381</td>\n",
              "    </tr>\n",
              "    <tr>\n",
              "      <th>2</th>\n",
              "      <td>2006-11-0108</td>\n",
              "      <td>5655</td>\n",
              "    </tr>\n",
              "    <tr>\n",
              "      <th>3</th>\n",
              "      <td>2006-11-0109</td>\n",
              "      <td>6142</td>\n",
              "    </tr>\n",
              "    <tr>\n",
              "      <th>4</th>\n",
              "      <td>2006-11-0206</td>\n",
              "      <td>5291</td>\n",
              "    </tr>\n",
              "    <tr>\n",
              "      <th>5</th>\n",
              "      <td>2006-11-0308</td>\n",
              "      <td>6633</td>\n",
              "    </tr>\n",
              "  </tbody>\n",
              "</table>\n",
              "</div>"
            ],
            "text/plain": [
              "      Date_Hour  Traffic\n",
              "0  2006-11-0106     9278\n",
              "1  2006-11-0107     8381\n",
              "2  2006-11-0108     5655\n",
              "3  2006-11-0109     6142\n",
              "4  2006-11-0206     5291\n",
              "5  2006-11-0308     6633"
            ]
          },
          "metadata": {
            "tags": []
          },
          "execution_count": 45
        }
      ]
    },
    {
      "cell_type": "code",
      "metadata": {
        "colab": {
          "base_uri": "https://localhost:8080/",
          "height": 111
        },
        "id": "uCkjuogr83_w",
        "outputId": "696d0fad-2cb8-4bc1-e020-4b1344deaf17"
      },
      "source": [
        "# Filter for times with traffic below 200 requests per hour\n",
        "df_low = date_hour_distr[(date_hour_distr < 200)].sort_index().reset_index()\n",
        "df_low.columns = ['Date_Hour', 'Traffic']\n",
        "df_low"
      ],
      "execution_count": 74,
      "outputs": [
        {
          "output_type": "execute_result",
          "data": {
            "text/html": [
              "<div>\n",
              "<style scoped>\n",
              "    .dataframe tbody tr th:only-of-type {\n",
              "        vertical-align: middle;\n",
              "    }\n",
              "\n",
              "    .dataframe tbody tr th {\n",
              "        vertical-align: top;\n",
              "    }\n",
              "\n",
              "    .dataframe thead th {\n",
              "        text-align: right;\n",
              "    }\n",
              "</style>\n",
              "<table border=\"1\" class=\"dataframe\">\n",
              "  <thead>\n",
              "    <tr style=\"text-align: right;\">\n",
              "      <th></th>\n",
              "      <th>Date_Hour</th>\n",
              "      <th>Traffic</th>\n",
              "    </tr>\n",
              "  </thead>\n",
              "  <tbody>\n",
              "    <tr>\n",
              "      <th>0</th>\n",
              "      <td>2006-11-0321</td>\n",
              "      <td>171</td>\n",
              "    </tr>\n",
              "    <tr>\n",
              "      <th>1</th>\n",
              "      <td>2006-11-0522</td>\n",
              "      <td>186</td>\n",
              "    </tr>\n",
              "  </tbody>\n",
              "</table>\n",
              "</div>"
            ],
            "text/plain": [
              "      Date_Hour  Traffic\n",
              "0  2006-11-0321      171\n",
              "1  2006-11-0522      186"
            ]
          },
          "metadata": {
            "tags": []
          },
          "execution_count": 74
        }
      ]
    },
    {
      "cell_type": "code",
      "metadata": {
        "colab": {
          "base_uri": "https://localhost:8080/"
        },
        "id": "lpoz5cK06cCb",
        "outputId": "463fe920-a5b0-4256-d303-217fb5c61680"
      },
      "source": [
        "# Find least request in an hour\n",
        "\n",
        "print('Least request per hour is', date_hour_distr.min(), 'at', date_hour_distr.idxmin())"
      ],
      "execution_count": 70,
      "outputs": [
        {
          "output_type": "stream",
          "text": [
            "Least request per hour is 171 at 2006-11-0321\n"
          ],
          "name": "stdout"
        }
      ]
    },
    {
      "cell_type": "markdown",
      "metadata": {
        "id": "xwKZ2IAr9IR_"
      },
      "source": [
        "### 2.2 Server Analysis\n",
        "\n",
        "View server responses breakdown using the sc-status column."
      ]
    },
    {
      "cell_type": "code",
      "metadata": {
        "id": "7LmkBHEqdovT",
        "colab": {
          "base_uri": "https://localhost:8080/"
        },
        "outputId": "c071b7f4-459a-46d6-a5a3-6ad829766157"
      },
      "source": [
        "df_web['sc-status'] = df_web['sc-status'].astype(int)\n",
        "\n",
        "# Group number of requests by server code status\n",
        "srv_code_distr = df_web['sc-status'].value_counts()\n",
        "srv_code_distr"
      ],
      "execution_count": 46,
      "outputs": [
        {
          "output_type": "execute_result",
          "data": {
            "text/plain": [
              "200    214680\n",
              "304     73165\n",
              "404      5019\n",
              "206      2151\n",
              "302       219\n",
              "500       101\n",
              "301        21\n",
              "501        11\n",
              "403        11\n",
              "406         2\n",
              "400         1\n",
              "Name: sc-status, dtype: int64"
            ]
          },
          "metadata": {
            "tags": []
          },
          "execution_count": 46
        }
      ]
    },
    {
      "cell_type": "code",
      "metadata": {
        "colab": {
          "base_uri": "https://localhost:8080/"
        },
        "id": "BuCgZAYXN_dw",
        "outputId": "92bb00a9-a2a0-42f6-d20e-180a2af28846"
      },
      "source": [
        "# how many types of status reported?\n",
        "len(srv_code_distr)"
      ],
      "execution_count": 47,
      "outputs": [
        {
          "output_type": "execute_result",
          "data": {
            "text/plain": [
              "11"
            ]
          },
          "metadata": {
            "tags": []
          },
          "execution_count": 47
        }
      ]
    },
    {
      "cell_type": "code",
      "metadata": {
        "colab": {
          "base_uri": "https://localhost:8080/"
        },
        "id": "5h9pCInNOuqc",
        "outputId": "c5ae11ab-49a7-489a-ddd1-5515b4d6d208"
      },
      "source": [
        "# list all server status codes\n",
        "srv_code_distr.index.sort_values()"
      ],
      "execution_count": null,
      "outputs": [
        {
          "output_type": "execute_result",
          "data": {
            "text/plain": [
              "Int64Index([200, 206, 301, 302, 304, 400, 403, 404, 406, 416, 500, 501], dtype='int64')"
            ]
          },
          "metadata": {
            "tags": []
          },
          "execution_count": 39
        }
      ]
    },
    {
      "cell_type": "code",
      "metadata": {
        "colab": {
          "base_uri": "https://localhost:8080/"
        },
        "id": "zCVBhQrQQD_J",
        "outputId": "4698c765-8ae7-4955-a9a9-2bb58f1a89bf"
      },
      "source": [
        "# only a few status codes are returned frequently \n",
        "# the remaining codes happen only make up a small percentage\n",
        "# save data into a dict for extraction into 'other' category\n",
        "sc_dict = srv_code_distr.to_dict()\n",
        "\n",
        "# separate the frequent codes \n",
        "big_slice = { k:v for (k,v) in sc_dict.items() if v >= 1000 }\n",
        "big_slice"
      ],
      "execution_count": 48,
      "outputs": [
        {
          "output_type": "execute_result",
          "data": {
            "text/plain": [
              "{200: 214680, 206: 2151, 304: 73165, 404: 5019}"
            ]
          },
          "metadata": {
            "tags": []
          },
          "execution_count": 48
        }
      ]
    },
    {
      "cell_type": "code",
      "metadata": {
        "colab": {
          "base_uri": "https://localhost:8080/"
        },
        "id": "SI86EOS_S_1r",
        "outputId": "722f313c-8eca-4cf1-d66c-bf93adf31902"
      },
      "source": [
        "# collect the remaining codes into the 'other' category\n",
        "other_slice = { k:v for (k,v) in sc_dict.items() if v < 1000 }\n",
        "other_slice"
      ],
      "execution_count": 49,
      "outputs": [
        {
          "output_type": "execute_result",
          "data": {
            "text/plain": [
              "{301: 21, 302: 219, 400: 1, 403: 11, 406: 2, 500: 101, 501: 11}"
            ]
          },
          "metadata": {
            "tags": []
          },
          "execution_count": 49
        }
      ]
    },
    {
      "cell_type": "code",
      "metadata": {
        "colab": {
          "base_uri": "https://localhost:8080/"
        },
        "id": "Zhy0cKtVTVNb",
        "outputId": "7dca4f33-1eea-4008-beb9-1fc1cded9469"
      },
      "source": [
        "# add the 'other' category into the big_slice dict\n",
        "big_slice['other'] =  sum(other_slice.values())\n",
        "big_slice"
      ],
      "execution_count": 50,
      "outputs": [
        {
          "output_type": "execute_result",
          "data": {
            "text/plain": [
              "{200: 214680, 206: 2151, 304: 73165, 404: 5019, 'other': 366}"
            ]
          },
          "metadata": {
            "tags": []
          },
          "execution_count": 50
        }
      ]
    },
    {
      "cell_type": "code",
      "metadata": {
        "colab": {
          "base_uri": "https://localhost:8080/",
          "height": 431
        },
        "id": "MYFTjsXDTiG_",
        "outputId": "7bafd2cd-9032-4183-cca9-93ab60b09e73"
      },
      "source": [
        "# Create a pie chart of the Server Response Code distribution\n",
        "%matplotlib inline\n",
        "\n",
        "# create a figure with 2 side by side plots\n",
        "fig, (ax1, ax2) = plt.subplots(nrows= 1, ncols= 2, figsize=(12, 7),\n",
        "                               gridspec_kw={'width_ratios': [3, 1]})\n",
        "\n",
        "# Pie chart\n",
        "# explode the wedge for the smallest values\n",
        "explode = [0, 0, 0, 0.1, 0.7]\n",
        "# line properties\n",
        "wedge_props = {'linewidth': 1, 'edgecolor': 'gray'}\n",
        "# set pie chart text to bold \n",
        "text_props = {'weight': 'bold'}\n",
        "ax1.pie(big_slice.values(), autopct='%.2f%%', labels=big_slice.keys(), \n",
        "        explode = explode, wedgeprops=wedge_props, \n",
        "        startangle=40, textprops=text_props)\n",
        "ax1.set_title('Server Status Codes', fontdict= {'fontweight': 'bold', 'fontsize': 18})\n",
        "\n",
        "# Other bar\n",
        "xpos = 0\n",
        "bottom = 0\n",
        "width = 2\n",
        "colors = ['aqua', 'lightblue', 'plum', 'yellow', 'indigo', 'blue', 'red']\n",
        "for i, (k,v) in enumerate(other_slice.items()):\n",
        "    height = v\n",
        "    ax2.bar(xpos, height, width, bottom=bottom, color= colors[i] )\n",
        "    bottom += height\n",
        "\n",
        "ax2.set_title('Other Status Codes')\n",
        "ax2.legend(other_slice.keys())\n",
        "ax2.axis('off')\n",
        "ax2.set_xlim(- 1.5 * width, 2.5 * width)\n",
        "\n",
        "plt.show()"
      ],
      "execution_count": 60,
      "outputs": [
        {
          "output_type": "display_data",
          "data": {
            "image/png": "[encoded data removed]",
            "text/plain": [
              "<Figure size 864x504 with 2 Axes>"
            ]
          },
          "metadata": {
            "tags": [],
            "needs_background": "light"
          }
        }
      ]
    },
    {
      "cell_type": "markdown",
      "metadata": {
        "id": "bxT49TgGpwrw"
      },
      "source": [
        "### 2.3 Geographic Analysis\n",
        "\n",
        "Use **DbIpCity** from **ip2geotools** to find the geolocation information from given IPs for a single hour - 3rd Nov 2006 9pm."
      ]
    },
    {
      "cell_type": "code",
      "metadata": {
        "id": "g1UvjRlOVjy0"
      },
      "source": [
        "# discard the stdout stream for this cell\n",
        "%%capture  \n",
        "!pip install ip2geotools"
      ],
      "execution_count": 76,
      "outputs": []
    },
    {
      "cell_type": "markdown",
      "metadata": {
        "id": "AvUQUKGCqLhJ"
      },
      "source": [
        "#### 2.3.1 Requests by Country"
      ]
    },
    {
      "cell_type": "code",
      "metadata": {
        "colab": {
          "base_uri": "https://localhost:8080/"
        },
        "id": "gdXK9A5t-jW6",
        "outputId": "ca8f930f-d77a-4a75-cee7-7eda37bd1aa9"
      },
      "source": [
        "# Extract records for 3rd Nov 2006 21:00 - 21:59\n",
        "df_03Nov_9pm = df_web[(df_web['date_hour'] == '2006-11-0321')]\n",
        "\n",
        "# How many records?\n",
        "print(len(df_03Nov_9pm.index))"
      ],
      "execution_count": 78,
      "outputs": [
        {
          "output_type": "stream",
          "text": [
            "171\n"
          ],
          "name": "stdout"
        }
      ]
    },
    {
      "cell_type": "markdown",
      "metadata": {
        "id": "ij3GC2xlRjVB"
      },
      "source": [
        "There are 171 requests in total.\n",
        "\n",
        "Pass the IP Address for each row of data to DbIpCity.get().country method to extract source country for the IP Address. Store the Country information in a new column in the dataframe"
      ]
    },
    {
      "cell_type": "code",
      "metadata": {
        "id": "jSdycFyYzybd",
        "colab": {
          "base_uri": "https://localhost:8080/"
        },
        "outputId": "86358b43-cd4a-44bb-fedc-8f0bc01877ce"
      },
      "source": [
        "from ip2geotools.databases.noncommercial import DbIpCity\n",
        "\n",
        "# for each row, lookup the country information using IP Address\n",
        "df_03Nov_9pm['country'] = df_03Nov_9pm.loc[:, 'c-ip'].apply(lambda x: DbIpCity.get(x, api_key='free').country)"
      ],
      "execution_count": 77,
      "outputs": [
        {
          "output_type": "stream",
          "text": [
            "/usr/local/lib/python3.7/dist-packages/ipykernel_launcher.py:4: SettingWithCopyWarning: \n",
            "A value is trying to be set on a copy of a slice from a DataFrame.\n",
            "Try using .loc[row_indexer,col_indexer] = value instead\n",
            "\n",
            "See the caveats in the documentation: https://pandas.pydata.org/pandas-docs/stable/user_guide/indexing.html#returning-a-view-versus-a-copy\n",
            "  after removing the cwd from sys.path.\n"
          ],
          "name": "stderr"
        }
      ]
    },
    {
      "cell_type": "code",
      "metadata": {
        "id": "xN21MLq7x6Cf",
        "colab": {
          "base_uri": "https://localhost:8080/"
        },
        "outputId": "1314581f-754b-480f-a413-cdd51feb0835"
      },
      "source": [
        "# Get distribution of requests by Country \n",
        "country_distr = df_03Nov_9pm['country'].value_counts()\n",
        "country_distr"
      ],
      "execution_count": 79,
      "outputs": [
        {
          "output_type": "execute_result",
          "data": {
            "text/plain": [
              "US    65\n",
              "CA    65\n",
              "MX    32\n",
              "HK     6\n",
              "CN     2\n",
              "TW     1\n",
              "Name: country, dtype: int64"
            ]
          },
          "metadata": {
            "tags": []
          },
          "execution_count": 79
        }
      ]
    },
    {
      "cell_type": "code",
      "metadata": {
        "colab": {
          "base_uri": "https://localhost:8080/"
        },
        "id": "IRJhYMMrS_bk",
        "outputId": "aa469577-074d-4300-d966-1a69aa7533ed"
      },
      "source": [
        "# Verify the sum of requests by countries matches number of rows in df \n",
        "country_distr.sum()"
      ],
      "execution_count": 80,
      "outputs": [
        {
          "output_type": "execute_result",
          "data": {
            "text/plain": [
              "171"
            ]
          },
          "metadata": {
            "tags": []
          },
          "execution_count": 80
        }
      ]
    },
    {
      "cell_type": "code",
      "metadata": {
        "colab": {
          "base_uri": "https://localhost:8080/",
          "height": 506
        },
        "id": "eHb72GBPS66R",
        "outputId": "caded850-e427-4a8c-8cf7-62077ef41a9b"
      },
      "source": [
        "# Create a pie chart of the country distribution\n",
        "%matplotlib inline\n",
        "\n",
        "plt.style.use('seaborn-pastel')\n",
        "\n",
        "# explode the wedge for the smallest values\n",
        "explode = [0, 0, 0, 0.3, 0.5, 0.7]\n",
        "# line properties\n",
        "wedge_props = {'linewidth': 1, 'edgecolor': 'gray'}\n",
        "# text properties\n",
        "text_props = {'weight': 'bold'}\n",
        "plt.pie(country_distr.values, labels=country_distr.index, \n",
        "        autopct='%.2f%%', explode=explode,\n",
        "        wedgeprops=wedge_props, textprops=text_props,\n",
        "        radius = 2.5)\n",
        "plt.title('Request by Country', y = 1.6, \n",
        "          fontdict= {'fontweight': 'bold'})\n",
        "plt.show()"
      ],
      "execution_count": 81,
      "outputs": [
        {
          "output_type": "display_data",
          "data": {
            "image/png": "[encoded data removed]",
            "text/plain": [
              "<Figure size 432x288 with 1 Axes>"
            ]
          },
          "metadata": {
            "tags": []
          }
        }
      ]
    },
    {
      "cell_type": "markdown",
      "metadata": {
        "id": "vmPi5hQi_KJT"
      },
      "source": [
        "#### 2.3.2 Requests by City"
      ]
    },
    {
      "cell_type": "code",
      "metadata": {
        "id": "JRJxv8URVyj8"
      },
      "source": [
        "# discard the stdout stream for this cell\n",
        "%%capture\n",
        "# for each row, lookup the city information using IP Address\n",
        "df_03Nov_9pm['city'] = df_03Nov_9pm.loc[:, 'c-ip'].apply(lambda x: DbIpCity.get(x, api_key='free').city)"
      ],
      "execution_count": 82,
      "outputs": []
    },
    {
      "cell_type": "code",
      "metadata": {
        "colab": {
          "base_uri": "https://localhost:8080/"
        },
        "id": "7M88CJMsWBAZ",
        "outputId": "a2e006e6-94d7-4d7e-e3cb-9fa1497f88a9"
      },
      "source": [
        "# Get distribution of requests by Cityy \n",
        "city_distr = df_03Nov_9pm['city'].value_counts()\n",
        "print(city_distr)"
      ],
      "execution_count": 83,
      "outputs": [
        {
          "output_type": "stream",
          "text": [
            "Montreal East                                  65\n",
            "Mexico City (Miguel Hidalgo Villa Olímpica)    32\n",
            "Columbus (Uptown District)                     31\n",
            "Columbus                                       24\n",
            "Hong Kong                                       6\n",
            "Miami                                           5\n",
            "New York                                        3\n",
            "Beijing                                         2\n",
            "Cheyenne                                        1\n",
            "Mountain View                                   1\n",
            "Taipei                                          1\n",
            "Name: city, dtype: int64\n"
          ],
          "name": "stdout"
        }
      ]
    },
    {
      "cell_type": "code",
      "metadata": {
        "colab": {
          "base_uri": "https://localhost:8080/"
        },
        "id": "s6s1W7v-eHn2",
        "outputId": "d4a3a128-6a07-4e36-e820-ec690f02efd6"
      },
      "source": [
        "# Verify the sum of requests by cities matches number of rows in df \n",
        "city_distr.sum()"
      ],
      "execution_count": 84,
      "outputs": [
        {
          "output_type": "execute_result",
          "data": {
            "text/plain": [
              "171"
            ]
          },
          "metadata": {
            "tags": []
          },
          "execution_count": 84
        }
      ]
    },
    {
      "cell_type": "code",
      "metadata": {
        "colab": {
          "base_uri": "https://localhost:8080/"
        },
        "id": "QNmq7t1odBKl",
        "outputId": "a9cd61ee-d7bc-4a43-82ae-2b95b7c1b938"
      },
      "source": [
        "# how many origin cities\n",
        "len(city_distr)"
      ],
      "execution_count": 85,
      "outputs": [
        {
          "output_type": "execute_result",
          "data": {
            "text/plain": [
              "11"
            ]
          },
          "metadata": {
            "tags": []
          },
          "execution_count": 85
        }
      ]
    },
    {
      "cell_type": "code",
      "metadata": {
        "id": "g7p39EpEBqaj",
        "colab": {
          "base_uri": "https://localhost:8080/",
          "height": 508
        },
        "outputId": "ef1cc45d-1d9b-4ade-f74e-3b7e821bd42f"
      },
      "source": [
        "# Create a pie chart of the city distribution\n",
        "plt.style.use('seaborn-pastel')\n",
        "\n",
        "# explode the wedge for the smallest values\n",
        "explode = [0, 0, 0, 0, 0.3, 0.6, 0.9, 1.2, 0.3, 0.6, 0.9]\n",
        "plt.pie(city_distr.values, labels=city_distr.index, \n",
        "        autopct='%1.1f%%', explode=explode,\n",
        "        wedgeprops=wedge_props, textprops=text_props,\n",
        "        radius = 2.5)\n",
        "plt.title('Request by City', \n",
        "          y = 1.6, \n",
        "          fontdict= {'fontweight': 'bold'})\n",
        "plt.show()"
      ],
      "execution_count": 86,
      "outputs": [
        {
          "output_type": "display_data",
          "data": {
            "image/png": "[encoded data removed]",
            "text/plain": [
              "<Figure size 432x288 with 1 Axes>"
            ]
          },
          "metadata": {
            "tags": []
          }
        }
      ]
    },
    {
      "cell_type": "code",
      "metadata": {
        "colab": {
          "base_uri": "https://localhost:8080/"
        },
        "id": "41k8JwMraDYh",
        "outputId": "685b750b-269c-4a15-cf3e-d8eea4ec2299"
      },
      "source": [
        "# Get top 3 cities by number of request. \n",
        "# Since the series is already sorted, use head()\n",
        "city_distr.head(3)"
      ],
      "execution_count": null,
      "outputs": [
        {
          "output_type": "execute_result",
          "data": {
            "text/plain": [
              "Ha Kwai Chung    166\n",
              "Beijing           15\n",
              "New York          14\n",
              "Name: city, dtype: int64"
            ]
          },
          "metadata": {
            "tags": []
          },
          "execution_count": 74
        }
      ]
    },
    {
      "cell_type": "code",
      "metadata": {
        "colab": {
          "base_uri": "https://localhost:8080/",
          "height": 390
        },
        "id": "ICEXHi7Ch1aS",
        "outputId": "5695859d-d178-4eeb-e9b9-b737a46133ac"
      },
      "source": [
        "# View request distribution  by country and city\n",
        "df_03Nov_9pm.groupby(['country', 'city']).size().reset_index(name='count')"
      ],
      "execution_count": 87,
      "outputs": [
        {
          "output_type": "execute_result",
          "data": {
            "text/html": [
              "<div>\n",
              "<style scoped>\n",
              "    .dataframe tbody tr th:only-of-type {\n",
              "        vertical-align: middle;\n",
              "    }\n",
              "\n",
              "    .dataframe tbody tr th {\n",
              "        vertical-align: top;\n",
              "    }\n",
              "\n",
              "    .dataframe thead th {\n",
              "        text-align: right;\n",
              "    }\n",
              "</style>\n",
              "<table border=\"1\" class=\"dataframe\">\n",
              "  <thead>\n",
              "    <tr style=\"text-align: right;\">\n",
              "      <th></th>\n",
              "      <th>country</th>\n",
              "      <th>city</th>\n",
              "      <th>count</th>\n",
              "    </tr>\n",
              "  </thead>\n",
              "  <tbody>\n",
              "    <tr>\n",
              "      <th>0</th>\n",
              "      <td>CA</td>\n",
              "      <td>Montreal East</td>\n",
              "      <td>65</td>\n",
              "    </tr>\n",
              "    <tr>\n",
              "      <th>1</th>\n",
              "      <td>CN</td>\n",
              "      <td>Beijing</td>\n",
              "      <td>2</td>\n",
              "    </tr>\n",
              "    <tr>\n",
              "      <th>2</th>\n",
              "      <td>HK</td>\n",
              "      <td>Hong Kong</td>\n",
              "      <td>6</td>\n",
              "    </tr>\n",
              "    <tr>\n",
              "      <th>3</th>\n",
              "      <td>MX</td>\n",
              "      <td>Mexico City (Miguel Hidalgo Villa Olímpica)</td>\n",
              "      <td>32</td>\n",
              "    </tr>\n",
              "    <tr>\n",
              "      <th>4</th>\n",
              "      <td>TW</td>\n",
              "      <td>Taipei</td>\n",
              "      <td>1</td>\n",
              "    </tr>\n",
              "    <tr>\n",
              "      <th>5</th>\n",
              "      <td>US</td>\n",
              "      <td>Cheyenne</td>\n",
              "      <td>1</td>\n",
              "    </tr>\n",
              "    <tr>\n",
              "      <th>6</th>\n",
              "      <td>US</td>\n",
              "      <td>Columbus</td>\n",
              "      <td>24</td>\n",
              "    </tr>\n",
              "    <tr>\n",
              "      <th>7</th>\n",
              "      <td>US</td>\n",
              "      <td>Columbus (Uptown District)</td>\n",
              "      <td>31</td>\n",
              "    </tr>\n",
              "    <tr>\n",
              "      <th>8</th>\n",
              "      <td>US</td>\n",
              "      <td>Miami</td>\n",
              "      <td>5</td>\n",
              "    </tr>\n",
              "    <tr>\n",
              "      <th>9</th>\n",
              "      <td>US</td>\n",
              "      <td>Mountain View</td>\n",
              "      <td>1</td>\n",
              "    </tr>\n",
              "    <tr>\n",
              "      <th>10</th>\n",
              "      <td>US</td>\n",
              "      <td>New York</td>\n",
              "      <td>3</td>\n",
              "    </tr>\n",
              "  </tbody>\n",
              "</table>\n",
              "</div>"
            ],
            "text/plain": [
              "   country                                         city  count\n",
              "0       CA                                Montreal East     65\n",
              "1       CN                                      Beijing      2\n",
              "2       HK                                    Hong Kong      6\n",
              "3       MX  Mexico City (Miguel Hidalgo Villa Olímpica)     32\n",
              "4       TW                                       Taipei      1\n",
              "5       US                                     Cheyenne      1\n",
              "6       US                                     Columbus     24\n",
              "7       US                   Columbus (Uptown District)     31\n",
              "8       US                                        Miami      5\n",
              "9       US                                Mountain View      1\n",
              "10      US                                     New York      3"
            ]
          },
          "metadata": {
            "tags": []
          },
          "execution_count": 87
        }
      ]
    }
  ]
}